{
 "cells": [
  {
   "cell_type": "code",
   "execution_count": 1,
   "metadata": {},
   "outputs": [
    {
     "name": "stdout",
     "output_type": "stream",
     "text": [
      "Om Mahaa Ganapataye Namah\n"
     ]
    }
   ],
   "source": [
    "print(\"Om Mahaa Ganapataye Namah\")"
   ]
  },
  {
   "cell_type": "code",
   "execution_count": 2,
   "metadata": {
    "collapsed": true
   },
   "outputs": [],
   "source": [
    "import pandas as pd\n",
    "import numpy as np"
   ]
  },
  {
   "cell_type": "code",
   "execution_count": 3,
   "metadata": {},
   "outputs": [
    {
     "name": "stdout",
     "output_type": "stream",
     "text": [
      "\n",
      " converted sales df\n",
      "     account  Jan  Feb  Mar\n",
      "0  Jones LLC  150  200  140\n",
      "1   Alpha Co  200  210  215\n",
      "2   Blue Inc   50   90   95\n",
      "\n",
      " column oriented list df21\n",
      "[('Brands', ['bmw', 'lexus', 'Ferrai', 'Mercedez']), ('color', ['red', 'white', 'black', 'blue']), ('year', ['2011', '2012', '2014', '2016'])]\n"
     ]
    },
    {
     "ename": "NameError",
     "evalue": "name 'df2' is not defined",
     "output_type": "error",
     "traceback": [
      "\u001b[1;31m---------------------------------------------------------------------------\u001b[0m",
      "\u001b[1;31mNameError\u001b[0m                                 Traceback (most recent call last)",
      "\u001b[1;32m<ipython-input-3-2f89a4d70625>\u001b[0m in \u001b[0;36m<module>\u001b[1;34m()\u001b[0m\n\u001b[0;32m     30\u001b[0m \u001b[1;33m\u001b[0m\u001b[0m\n\u001b[0;32m     31\u001b[0m \u001b[1;33m\u001b[0m\u001b[0m\n\u001b[1;32m---> 32\u001b[1;33m \u001b[0mdf22\u001b[0m \u001b[1;33m=\u001b[0m \u001b[0mpd\u001b[0m\u001b[1;33m.\u001b[0m\u001b[0mDataFrame\u001b[0m\u001b[1;33m.\u001b[0m\u001b[0mfrom_items\u001b[0m\u001b[1;33m(\u001b[0m\u001b[0mdf2\u001b[0m\u001b[1;33m)\u001b[0m\u001b[1;33m\u001b[0m\u001b[0m\n\u001b[0m\u001b[0;32m     33\u001b[0m \u001b[1;32mprint\u001b[0m \u001b[0mdf22\u001b[0m\u001b[1;33m\u001b[0m\u001b[0m\n\u001b[0;32m     34\u001b[0m \u001b[1;33m\u001b[0m\u001b[0m\n",
      "\u001b[1;31mNameError\u001b[0m: name 'df2' is not defined"
     ]
    }
   ],
   "source": [
    "sales = [('account', ['Jones LLC', 'Alpha Co', 'Blue Inc']),\n",
    "         ('Jan', [150, 200, 50]),\n",
    "         ('Feb', [200, 210, 90]),\n",
    "         ('Mar', [140, 215, 95]),\n",
    "         ]\n",
    "df = pd.DataFrame.from_items(sales)\n",
    "\n",
    "print ('\\n converted sales df')\n",
    "print (df)\n",
    "\n",
    "# List  Column oriented \n",
    "\n",
    "df21 = [('Brands',['bmw','lexus','Ferrai','Mercedez']),\n",
    "       ('color', ['red','white','black','blue']),\n",
    "       ('year',  ['2011','2012','2014','2016'])\n",
    "       ]\n",
    "'''\n",
    "df21 = [('Brands',['bmw','lexus','Ferrai']),\n",
    "       ('color', ['red','white','black']),\n",
    "       ('year',  ['2011','2012','2014'])\n",
    "       ]\n",
    "'''\n",
    "df2l = [('brands', ['Jones LLC', 'Alpha Co', 'Blue Inc']),\n",
    "         ('Color', [150, 200, 50]),\n",
    "         ('Year', [200, 210, 90]),\n",
    "                ]\n",
    "\n",
    "print '\\n column oriented list df21'\n",
    "print df21       \n",
    "    \n",
    "\n",
    "df22 = pd.DataFrame.from_items(df2)\n",
    "print df22\n",
    "\n",
    "df2 = pd.DataFrame([['bmw','red','2012'],['lexus','white','2014'],['Ferrai','black','2011'],\n",
    "                    ['mercedez','blue','2016']  ]\n",
    "                   ,columns= ['Brands','Color','year'],index=[0, 1, 2,3])\n",
    "\n",
    "print(type(df2))\n",
    "print('\\n df2 data frame')\n",
    "print(df2)\n",
    "\n",
    "# Save the data frame as a .csv file \n",
    "df2.to_csv('D:/dat1/cars1_extract.csv',header=True)\n",
    "df3 = pd.read_csv('D:/dat1/cars1_extract.csv',sep=',')\n",
    "print '\\n df3 data frame'\n",
    "print df3\n"
   ]
  },
  {
   "cell_type": "code",
   "execution_count": 104,
   "metadata": {},
   "outputs": [
    {
     "name": "stdout",
     "output_type": "stream",
     "text": [
      "\n",
      " df3 row 2 to 4 data frame\n",
      "   Unnamed: 0    Brands  Color  year\n",
      "1           1     lexus  white  2014\n",
      "2           2    Ferrai  black  2011\n",
      "3           3  mercedez   blue  2016\n",
      "\n",
      " df3 row 2 to 4 data frame\n",
      "   Unnamed: 0    Brands  Color  year\n",
      "1           1     lexus  white  2014\n",
      "2           2    Ferrai  black  2011\n",
      "3           3  mercedez   blue  2016\n",
      "\n",
      " car models before 2014 \n",
      "   Unnamed: 0  Brands  Color  year\n",
      "0           0     bmw    red  2012\n",
      "2           2  Ferrai  black  2011\n",
      "\n",
      " car models before 2014 \n",
      "\n",
      " bmw car models before 2014 \n",
      "\n",
      " after setting the index \n",
      "          Unnamed: 0  Color  year\n",
      "Brands                           \n",
      "bmw                0    red  2012\n",
      "lexus              1  white  2014\n",
      "Ferrai             2  black  2011\n",
      "mercedez           3   blue  2016\n",
      "\n",
      " bmw car models before 2014 \n",
      "Unnamed: 0       0\n",
      "Color          red\n",
      "year          2012\n",
      "Name: bmw, dtype: object\n"
     ]
    }
   ],
   "source": [
    "# Select specific rows from the data frame\n",
    "print '\\n df3 row 2 to 4 data frame'\n",
    "print (df3.loc[1:3])\n",
    "\n",
    "# Select specific column based on specific row from  the data frame\n",
    "print '\\n df3 row 2 to 4 data frame'\n",
    "print (df3.ix[1:3])\n",
    "\n",
    "# Select the 2014 model car from df3 data frame\n",
    "print '\\n car models before 2014 '\n",
    "print df3.loc[df3['year'] <2014 ]\n",
    "# Select the 2014 model car from df3 data frame\n",
    "print '\\n car models before 2014 '\n",
    "\n",
    "# Select the bmw cars  model before 2013 from df3 data frame\n",
    "print '\\n bmw car models before 2014 '\n",
    "df4 = df3.set_index('Brands')\n",
    "\n",
    "print '\\n after setting the index '\n",
    "print (df4)\n",
    "\n",
    "print '\\n bmw car models before 2014 '\n",
    "print df4.loc['bmw']\n",
    "\n",
    "# print df3.loc[df3['year' < 2014 & 'Brands' == \"bmw\"]]\n",
    "\n",
    "# Change the brand name of all rows with an year greater than 2014 to \"bmw\"\n",
    "# df3.loc[df3['year'] < 2014, \"Brands\"] = \"bmw\""
   ]
  },
  {
   "cell_type": "code",
   "execution_count": 4,
   "metadata": {},
   "outputs": [
    {
     "name": "stdout",
     "output_type": "stream",
     "text": [
      "\n",
      " Type of objects \n",
      "{'colour': ['red', 'white', 'black', 'blue'], 'name': ['bmw', 'lexus', 'ferrari', 'mercedez'], 'year': ('2012', '2014', '2011', '2016')}\n",
      "<type 'dict'>\n",
      "\n",
      " 1st Data frame  \n",
      "  colour      name  year\n",
      "0    red       bmw  2012\n",
      "1  white     lexus  2014\n",
      "2  black   ferrari  2011\n",
      "3   blue  mercedez  2016\n",
      "\n",
      " 2nd Data frame \n",
      "   colour     name  year\n",
      "4    grey     audi  2011\n",
      "5   brown  hyundai  2014\n",
      "6  yellow   maruti  2012\n",
      "7   white     ford  2015\n"
     ]
    }
   ],
   "source": [
    "df_cars1 ={'name': ['bmw', 'lexus', 'ferrari', 'mercedez'],\n",
    "                                'colour': ['red', 'white', 'black', 'blue'],\n",
    "                                'year': ('2012', '2014', '2011', '2016'),\n",
    "                               }\n",
    "print('\\n Type of objects ')\n",
    "print(df_cars1)\n",
    "print(type(df_cars1))\n",
    "    \n",
    "\n",
    "df_cars1 = pd.DataFrame({'name': ['bmw', 'lexus', 'ferrari', 'mercedez'],\n",
    "                                'colour': ['red', 'white', 'black', 'blue'],\n",
    "                                'year': ['2012', '2014', '2011', '2016'],\n",
    "                               })\n",
    "print('\\n 1st Data frame  ')\n",
    "print(df_cars1)\n",
    "\n",
    "df_cars2 = pd.DataFrame({'name': ['audi', 'hyundai', 'maruti', 'ford'],\n",
    "                                'colour': ['grey', 'brown', 'yellow', 'white'],\n",
    "                                'year': ['2011', '2014', '2012', '2015'],\n",
    "                               },index=[4, 5,6,7])\n",
    "print('\\n 2nd Data frame ')\n",
    "print(df_cars2)"
   ]
  },
  {
   "cell_type": "code",
   "execution_count": 5,
   "metadata": {},
   "outputs": [],
   "source": [
    "df_cars1 = pd.DataFrame({'name': ['bmw', 'lexus', 'ferrari', 'mercedez'],\n",
    "                                'colour': ['red', 'white', 'black', 'blue'],\n",
    "                                'year': ['2012', '2014', '2011', '2016'],\n",
    "                               },index=[0, 1, 2,3])"
   ]
  },
  {
   "cell_type": "code",
   "execution_count": 6,
   "metadata": {
    "collapsed": true
   },
   "outputs": [],
   "source": [
    " df_cars2 = pd.DataFrame({'name': ['audi', 'hyundai', 'maruti', 'ford'],\n",
    "                                'colour': ['grey', 'brown', 'yellow', 'white'],\n",
    "                                'year': ['2011', '2014', '2012', '2015'],\n",
    "                               },index=[4, 5,6,7])"
   ]
  },
  {
   "cell_type": "code",
   "execution_count": 7,
   "metadata": {},
   "outputs": [
    {
     "name": "stdout",
     "output_type": "stream",
     "text": [
      "\n",
      "Cars from datafrme 1\n",
      "\n",
      "  colour      name  year\n",
      "0    red       bmw  2012\n",
      "1  white     lexus  2014\n",
      "2  black   ferrari  2011\n",
      "3   blue  mercedez  2016\n"
     ]
    }
   ],
   "source": [
    "print('\\nCars from datafrme 1\\n')\n",
    "print(df_cars1)"
   ]
  },
  {
   "cell_type": "code",
   "execution_count": 8,
   "metadata": {},
   "outputs": [
    {
     "name": "stdout",
     "output_type": "stream",
     "text": [
      "\n",
      "Cars from dataframe 2\n",
      "\n",
      "   colour     name  year\n",
      "4    grey     audi  2011\n",
      "5   brown  hyundai  2014\n",
      "6  yellow   maruti  2012\n",
      "7   white     ford  2015\n"
     ]
    }
   ],
   "source": [
    "print('\\nCars from dataframe 2\\n')\n",
    "print(df_cars2)"
   ]
  },
  {
   "cell_type": "code",
   "execution_count": 9,
   "metadata": {},
   "outputs": [
    {
     "name": "stdout",
     "output_type": "stream",
     "text": [
      "   colour      name  year\n",
      "0     red       bmw  2012\n",
      "1   white     lexus  2014\n",
      "2   black   ferrari  2011\n",
      "3    blue  mercedez  2016\n",
      "4    grey      audi  2011\n",
      "5   brown   hyundai  2014\n",
      "6  yellow    maruti  2012\n",
      "7   white      ford  2015\n"
     ]
    }
   ],
   "source": [
    "# concatenate row wise\n",
    "concat_frame = pd.concat([df_cars1,df_cars2],axis=0)\n",
    "print(concat_frame)"
   ]
  },
  {
   "cell_type": "code",
   "execution_count": 10,
   "metadata": {},
   "outputs": [
    {
     "name": "stdout",
     "output_type": "stream",
     "text": [
      "\n",
      "Concatenated dataframe of cars on default axis 0\n",
      "\n",
      "\n",
      "   colour      name  year\n",
      "0     red       bmw  2012\n",
      "1   white     lexus  2014\n",
      "2   black   ferrari  2011\n",
      "3    blue  mercedez  2016\n",
      "4    grey      audi  2011\n",
      "5   brown   hyundai  2014\n",
      "6  yellow    maruti  2012\n",
      "7   white      ford  2015\n",
      "\n"
     ]
    }
   ],
   "source": [
    "print(\"\\nConcatenated dataframe of cars on default axis 0\\n\")\n",
    "print('\\n'+str(concat_frame)+'\\n')"
   ]
  },
  {
   "cell_type": "code",
   "execution_count": 11,
   "metadata": {},
   "outputs": [
    {
     "name": "stdout",
     "output_type": "stream",
     "text": [
      "\n",
      "Concatenated dataframe of cars on (column) axis 1\n",
      "\n",
      "\n",
      "  colour      name  year  colour     name  year\n",
      "0    red       bmw  2012     NaN      NaN   NaN\n",
      "1  white     lexus  2014     NaN      NaN   NaN\n",
      "2  black   ferrari  2011     NaN      NaN   NaN\n",
      "3   blue  mercedez  2016     NaN      NaN   NaN\n",
      "4    NaN       NaN   NaN    grey     audi  2011\n",
      "5    NaN       NaN   NaN   brown  hyundai  2014\n",
      "6    NaN       NaN   NaN  yellow   maruti  2012\n",
      "7    NaN       NaN   NaN   white     ford  2015\n",
      "\n"
     ]
    }
   ],
   "source": [
    "# concatenate column wise\n",
    "concat_frame = pd.concat([df_cars1,df_cars2],axis=1)\n",
    "print(\"\\nConcatenated dataframe of cars on (column) axis 1\\n\")\n",
    "print('\\n'+str(concat_frame)+'\\n')"
   ]
  },
  {
   "cell_type": "code",
   "execution_count": 12,
   "metadata": {},
   "outputs": [
    {
     "name": "stdout",
     "output_type": "stream",
     "text": [
      "   country units variant\n",
      "0  germany  2500  diesel\n",
      "1   france  4700  petrol\n",
      "2       US  3250  petrol\n",
      "3       UK  6470  diesel\n",
      "\n",
      "Concatenated dataframe of cars 1 with details on axis 1 i.e. using columns as axis\n",
      "\n",
      "  colour      name  year  country units variant\n",
      "0    red       bmw  2012  germany  2500  diesel\n",
      "1  white     lexus  2014   france  4700  petrol\n",
      "2  black   ferrari  2011       US  3250  petrol\n",
      "3   blue  mercedez  2016       UK  6470  diesel\n"
     ]
    }
   ],
   "source": [
    "df_car_details = pd.DataFrame({'country': ['germany', 'france', 'US', 'UK'],\n",
    "                                'units': ['2500', '4700', '3250', '6470'],\n",
    "                                'variant': ['diesel', 'petrol', 'petrol', 'diesel'],\n",
    "                               },index=[0, 1,2,3])\n",
    "\n",
    "print(df_car_details)\n",
    "\n",
    "# Now lets try concatenate with the 3rd data frame\n",
    "print(\"\\nConcatenated dataframe of cars 1 with details on axis 1 i.e. using columns as axis\\n\")\n",
    "print pd.concat([df_cars1,df_car_details],axis=1)"
   ]
  },
  {
   "cell_type": "code",
   "execution_count": 13,
   "metadata": {},
   "outputs": [
    {
     "name": "stdout",
     "output_type": "stream",
     "text": [
      "\n",
      "Subjects dataframe\n",
      "\n",
      "  SectionId Semester Subjects ClassId Students\n",
      "0       Id1    First    Maths     Id1   Trevor\n",
      "1       Id2   Second  Science     Id2    Chris\n",
      "2       Id4    Third  History     Id4     John\n",
      "3       NaN      NaN      NaN     Id6    David\n"
     ]
    }
   ],
   "source": [
    "df_subject = pd.DataFrame({'SectionId': ['Id1', 'Id2', 'Id3', 'Id4'],\n",
    "                                'Subjects': ['Maths', 'Science', 'Computer', 'History'],\n",
    "                                'Semester': ['First','Second','First','Third']\n",
    "                               },index=[0, 1, 2,3])\n",
    "\n",
    "df_students = pd.DataFrame({'ClassId': ['Id4', 'Id1', 'Id6', 'Id2'],\n",
    "                               'Students': ['John', 'Trevor', 'David', 'Chris'],\n",
    "                               },index=[4,5,6,7])\n",
    "merge_frame= pd.merge(df_subject,df_students,how='right',left_on='SectionId',right_on='ClassId')\n",
    "print(\"\\nSubjects dataframe\\n\")\n",
    "print(merge_frame)"
   ]
  },
  {
   "cell_type": "code",
   "execution_count": 14,
   "metadata": {},
   "outputs": [
    {
     "name": "stdout",
     "output_type": "stream",
     "text": [
      "\n",
      "Subjects dataframe\n",
      "\n",
      "  SectionId Semester Subjects Students\n",
      "0       Id1    First    Maths   Trevor\n",
      "1       Id2   Second  Science    Chris\n",
      "2       Id4    Third  History     John\n"
     ]
    }
   ],
   "source": [
    "# if both df's joining column names are same.\n",
    "df_subject = pd.DataFrame({'SectionId': ['Id1', 'Id2', 'Id3', 'Id4'],\n",
    "                                'Subjects': ['Maths', 'Science', 'Computer', 'History'],\n",
    "                                'Semester': ['First','Second','First','Third']\n",
    "                               },index=[0, 1, 2,3])\n",
    "\n",
    "df_students = pd.DataFrame({'SectionId': ['Id4', 'Id1', 'Id6', 'Id2'],\n",
    "                               'Students': ['John', 'Trevor', 'David', 'Chris'],\n",
    "                               },index=[4,5,6,7])\n",
    "merge_frame= pd.merge(df_subject,df_students,on='SectionId')\n",
    "print(\"\\nSubjects dataframe\\n\")\n",
    "print(merge_frame)"
   ]
  },
  {
   "cell_type": "code",
   "execution_count": 15,
   "metadata": {},
   "outputs": [
    {
     "name": "stdout",
     "output_type": "stream",
     "text": [
      "\n",
      "  SectionId Semester  Subjects\n",
      "0       Id1    First     Maths\n",
      "1       Id2   Second   Science\n",
      "2       Id3    First  Computer\n",
      "3       Id4    Third   History\n",
      "\n",
      "\n",
      "Students dataframe\n",
      "\n",
      "\n",
      "  SectionId Students\n",
      "4       Id4     John\n",
      "5       Id1   Trevor\n",
      "6       Id6    David\n",
      "7       Id2    Chris\n",
      "\n",
      "\n",
      "Merged dataframe\n",
      "\n",
      "  SectionId Semester Subjects Students\n",
      "0       Id1    First    Maths   Trevor\n",
      "1       Id2   Second  Science    Chris\n",
      "2       Id4    Third  History     John\n"
     ]
    }
   ],
   "source": [
    "\n",
    "df_students = pd.DataFrame({'SectionId': ['Id4', 'Id1', 'Id6', 'Id2'],\n",
    "                               'Students': ['John', 'Trevor', 'David', 'Chris'],\n",
    "                               },index=[4,5,6,7])\n",
    "print('\\n'+str(df_subject)+'\\n')\n",
    "print(\"\\nStudents dataframe\\n\")\n",
    "print('\\n'+str(df_students)+'\\n')\n",
    "print(\"\\nMerged dataframe\\n\")\n",
    "print merge_frame"
   ]
  },
  {
   "cell_type": "code",
   "execution_count": 16,
   "metadata": {},
   "outputs": [
    {
     "name": "stdout",
     "output_type": "stream",
     "text": [
      "\n",
      "Merged dataframe\n",
      "\n",
      "  SectionId Semester Subjects ClassId Students\n",
      "0       Id1    First    Maths     Id1   Trevor\n",
      "1       Id2   Second  Science     Id2    Chris\n",
      "2       Id4    Third  History     Id4     John\n"
     ]
    }
   ],
   "source": [
    "# if both df's joining column names are same.\n",
    "df_subject = pd.DataFrame({'SectionId': ['Id1', 'Id2', 'Id3', 'Id4'],\n",
    "                                'Subjects': ['Maths', 'Science', 'Computer', 'History'],\n",
    "                                'Semester': ['First','Second','First','Third']\n",
    "                               },index=[0, 1, 2,3])\n",
    "df_students = pd.DataFrame({'ClassId': ['Id4', 'Id1', 'Id6', 'Id2'],\n",
    "                               'Students': ['John', 'Trevor', 'David', 'Chris'],\n",
    "                               },index=[4,5,6,7])\n",
    "merge_frame= pd.merge(df_subject,df_students,how='inner',left_on='SectionId',right_on='ClassId')\n",
    "print(\"\\nMerged dataframe\\n\")\n",
    "print merge_frame"
   ]
  },
  {
   "cell_type": "code",
   "execution_count": 17,
   "metadata": {},
   "outputs": [
    {
     "name": "stdout",
     "output_type": "stream",
     "text": [
      "\n",
      "Merged dataframe\n",
      "\n",
      "  SectionId Semester  Subjects ClassId Students\n",
      "0       Id1    First     Maths     Id1   Trevor\n",
      "1       Id2   Second   Science     Id2    Chris\n",
      "2       Id3    First  Computer     NaN      NaN\n",
      "3       Id4    Third   History     Id4     John\n"
     ]
    }
   ],
   "source": [
    "merge_frame= pd.merge(df_subject,df_students,how='left',left_on='SectionId',right_on='ClassId')\n",
    "print(\"\\nMerged dataframe\\n\")\n",
    "print merge_frame"
   ]
  },
  {
   "cell_type": "code",
   "execution_count": 18,
   "metadata": {},
   "outputs": [
    {
     "name": "stdout",
     "output_type": "stream",
     "text": [
      "\n",
      "Merged dataframe\n",
      "\n",
      "  SectionId Semester  Subjects ClassId Students\n",
      "0       Id1    First     Maths     Id1   Trevor\n",
      "1       Id2   Second   Science     Id2    Chris\n",
      "2       Id3    First  Computer     NaN      NaN\n",
      "3       Id4    Third   History     Id4     John\n",
      "4       NaN      NaN       NaN     Id6    David\n"
     ]
    }
   ],
   "source": [
    "merge_frame= pd.merge(df_subject,df_students,how='outer',left_on='SectionId',right_on='ClassId')\n",
    "print(\"\\nMerged dataframe\\n\")\n",
    "\n",
    "print merge_frame"
   ]
  },
  {
   "cell_type": "code",
   "execution_count": 19,
   "metadata": {},
   "outputs": [
    {
     "name": "stdout",
     "output_type": "stream",
     "text": [
      "  colour_left name_left year_left colour_right name_right year_right\n",
      "0         red       bmw      2012          NaN        NaN        NaN\n",
      "1       white     lexus      2014          NaN        NaN        NaN\n",
      "2       black   ferrari      2011          NaN        NaN        NaN\n",
      "3        blue  mercedez      2016          NaN        NaN        NaN\n",
      "\n",
      "\n",
      "  colour_left name_left year_left colour_right name_right year_right\n",
      "4        grey      audi      2011          NaN        NaN        NaN\n",
      "5       brown   hyundai      2014          NaN        NaN        NaN\n",
      "6      yellow    maruti      2012          NaN        NaN        NaN\n",
      "7       white      ford      2015          NaN        NaN        NaN\n",
      "\n",
      "\n",
      "  colour      name  year  country units variant\n",
      "0    red       bmw  2012  germany  2500  diesel\n",
      "1  white     lexus  2014   france  4700  petrol\n",
      "2  black   ferrari  2011       US  3250  petrol\n",
      "3   blue  mercedez  2016       UK  6470  diesel\n"
     ]
    }
   ],
   "source": [
    "#Joining Dataframe cars 2 to dataframe cars 1\n",
    "print  pd.DataFrame.join(df_cars1,df_cars2,lsuffix='_left',rsuffix='_right')\n",
    "print(\"\\n\")\n",
    "#Joining Dataframe cars 1 to dataframe cars 2\n",
    "print  pd.DataFrame.join(df_cars2,df_cars1,lsuffix='_left',rsuffix='_right')\n",
    "print(\"\\n\")\n",
    "# Joining dataframe car details to cars1 ,having same indexes\n",
    "print  pd.DataFrame.join(df_cars1,df_car_details)"
   ]
  },
  {
   "cell_type": "code",
   "execution_count": 21,
   "metadata": {},
   "outputs": [
    {
     "data": {
      "text/html": [
       "<div>\n",
       "<table border=\"1\" class=\"dataframe\">\n",
       "  <thead>\n",
       "    <tr style=\"text-align: right;\">\n",
       "      <th></th>\n",
       "      <th>name</th>\n",
       "      <th>attr11</th>\n",
       "      <th>attr12</th>\n",
       "      <th>attr21</th>\n",
       "      <th>attr22</th>\n",
       "      <th>attr31</th>\n",
       "      <th>attr32</th>\n",
       "    </tr>\n",
       "  </thead>\n",
       "  <tbody>\n",
       "    <tr>\n",
       "      <th>0</th>\n",
       "      <td>a</td>\n",
       "      <td>5</td>\n",
       "      <td>9</td>\n",
       "      <td>5</td>\n",
       "      <td>19</td>\n",
       "      <td>15</td>\n",
       "      <td>49</td>\n",
       "    </tr>\n",
       "    <tr>\n",
       "      <th>1</th>\n",
       "      <td>b</td>\n",
       "      <td>4</td>\n",
       "      <td>61</td>\n",
       "      <td>14</td>\n",
       "      <td>16</td>\n",
       "      <td>4</td>\n",
       "      <td>36</td>\n",
       "    </tr>\n",
       "    <tr>\n",
       "      <th>2</th>\n",
       "      <td>c</td>\n",
       "      <td>24</td>\n",
       "      <td>9</td>\n",
       "      <td>4</td>\n",
       "      <td>9</td>\n",
       "      <td>14</td>\n",
       "      <td>9</td>\n",
       "    </tr>\n",
       "  </tbody>\n",
       "</table>\n",
       "</div>"
      ],
      "text/plain": [
       "  name attr11 attr12 attr21 attr22 attr31 attr32\n",
       "0    a      5      9      5     19     15     49\n",
       "1    b      4     61     14     16      4     36\n",
       "2    c     24      9      4      9     14      9"
      ]
     },
     "execution_count": 21,
     "metadata": {},
     "output_type": "execute_result"
    }
   ],
   "source": [
    "# Merge multiple dataframes\n",
    "df1 = pd.DataFrame(np.array([\n",
    "    ['a', 5, 9],\n",
    "    ['b', 4, 61],\n",
    "    ['c', 24, 9]]),\n",
    "    columns=['name', 'attr11', 'attr12'])\n",
    "df2 = pd.DataFrame(np.array([\n",
    "    ['a', 5, 19],\n",
    "    ['b', 14, 16],\n",
    "    ['c', 4, 9]]),\n",
    "    columns=['name', 'attr21', 'attr22'])\n",
    "df3 = pd.DataFrame(np.array([\n",
    "    ['a', 15, 49],\n",
    "    ['b', 4, 36],\n",
    "    ['c', 14, 9]]),\n",
    "    columns=['name', 'attr31', 'attr32'])\n",
    "\n",
    "pd.merge(pd.merge(df1,df2,on='name'),df3,on='name')"
   ]
  },
  {
   "cell_type": "code",
   "execution_count": null,
   "metadata": {
    "collapsed": true
   },
   "outputs": [],
   "source": []
  }
 ],
 "metadata": {
  "kernelspec": {
   "display_name": "Python 3",
   "language": "python",
   "name": "python3"
  },
  "language_info": {
   "codemirror_mode": {
    "name": "ipython",
    "version": 3
   },
   "file_extension": ".py",
   "mimetype": "text/x-python",
   "name": "python",
   "nbconvert_exporter": "python",
   "pygments_lexer": "ipython3",
   "version": "3.6.3"
  }
 },
 "nbformat": 4,
 "nbformat_minor": 1
}
